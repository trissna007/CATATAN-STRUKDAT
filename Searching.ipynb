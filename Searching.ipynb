{
 "cells": [
  {
   "cell_type": "markdown",
   "metadata": {},
   "source": [
    "SEARCHING\n",
    "\n",
    "Searching terbagi menjadi dua yaitu linear dan binary.\n",
    "\n",
    "Linear Search Atau sequential search adalah metode untuk menemukan target nilai dengan list. Secara berurutan mengecek satu persatu setiap elemen yang ada di dalam list untuk target nilai hingga yang cocok ditemukan atau hingga semua elemen telah selesai dicari."
   ]
  },
  {
   "cell_type": "code",
   "execution_count": null,
   "metadata": {},
   "outputs": [],
   "source": [
    "def SequentialSearch(alist,item):\n",
    "    pos=0\n",
    "    found=False\n",
    "    \n",
    "    while pos<len(alist) and not found:\n",
    "        if alist[pos]==item:\n",
    "            found=True\n",
    "        else:\n",
    "            pos=pos+1\n",
    "    return found\n",
    "testlist=[2,5,3,17,4,22,13,8]\n",
    "print(SequentialSearch(testlist,17))"
   ]
  },
  {
   "cell_type": "markdown",
   "metadata": {},
   "source": [
    "Binary Search\n",
    "Atau dikenal sebagai search separuh interval, pencarian logaritmik, atau binary chop. \n",
    "Adalah algoritma search yang mencari posisi sebuah nilai target dengan array yang telah diurutkan."
   ]
  },
  {
   "cell_type": "code",
   "execution_count": 1,
   "metadata": {},
   "outputs": [
    {
     "name": "stdout",
     "output_type": "stream",
     "text": [
      "masukkan panjang list= 3\n",
      "masukkan angka= 5\n",
      "masukkan angka= 4\n",
      "masukkan angka= 7\n",
      "[4, 5, 7]\n",
      "masukkan angka yang dicari= 4\n",
      "[4, 5, 7]\n",
      "('iterasi', 1)\n",
      "ditemukan\n",
      "()\n"
     ]
    }
   ],
   "source": [
    "def Sorting(data):\n",
    "    for i in range(0,len(data)-1,1):\n",
    "        for j in range(0,len(data)-1,1):\n",
    "            if data[j]>data[j+1]:\n",
    "                temp = data[j]\n",
    "                data[j] = data[j+1]\n",
    "                data[j+1]=temp\n",
    "                \n",
    "panjang=int(input(\"masukkan panjang list= \"))\n",
    "myList=[0]*panjang\n",
    "for x in range (panjang):\n",
    "    myList[x]=int(input(\"masukkan angka= \"))\n",
    "\n",
    "Sorting(myList)\n",
    "print(myList)\n",
    "\n",
    "search=int(input(\"masukkan angka yang dicari= \"))\n",
    "daftar=myList\n",
    "iterasi=0\n",
    "ketemu = False\n",
    "stop = False\n",
    "print(daftar)\n",
    "\n",
    "while iterasi <= len(daftar)-1 and not ketemu:\n",
    "    a = iterasi\n",
    "    print(\"iterasi\", a+1)\n",
    "    if search == daftar[iterasi]:\n",
    "        print(\"ditemukan\")\n",
    "        ketemu=True\n",
    "    if daftar[iterasi] > search :\n",
    "        stop = True\n",
    "        break\n",
    "    else:\n",
    "        iterasi+=1\n",
    "if ketemu :\n",
    "    print()\n",
    "else :\n",
    "    print(\"angka tidak ditemukan\")"
   ]
  }
 ],
 "metadata": {
  "kernelspec": {
   "display_name": "Python 2",
   "language": "python",
   "name": "python2"
  },
  "language_info": {
   "codemirror_mode": {
    "name": "ipython",
    "version": 2
   },
   "file_extension": ".py",
   "mimetype": "text/x-python",
   "name": "python",
   "nbconvert_exporter": "python",
   "pygments_lexer": "ipython2",
   "version": "2.7.15"
  }
 },
 "nbformat": 4,
 "nbformat_minor": 2
}
