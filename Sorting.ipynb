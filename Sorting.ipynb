{
 "cells": [
  {
   "cell_type": "markdown",
   "metadata": {},
   "source": [
    "SORTING\n",
    "\n",
    "Sorting terbagi menjadi\n",
    "\n",
    "1. Bubble Sort\n",
    "2. Selection Sort\n",
    "3. Insertion Sort\n",
    "4. Quick Sort\n",
    "5. Merged Sort\n",
    "6. Shell Sort\n",
    "\n",
    "Bubble Sort\n",
    "\n",
    "Adalah algoritma sorting sederhana yang mengulang langkah-langkahnya di dalam list untuk diurutkan, membandingkan setiap item dan menukarnya jika mereka berada dalam urutan yang salah."
   ]
  },
  {
   "cell_type": "code",
   "execution_count": 1,
   "metadata": {},
   "outputs": [
    {
     "name": "stdout",
     "output_type": "stream",
     "text": [
      "masukkan panjang list= 5\n",
      "masukkan angka= 3\n",
      "masukkan angka= 5\n",
      "masukkan angka= 1\n",
      "masukkan angka= 4\n",
      "masukkan angka= 7\n",
      "[7, 5, 4, 3, 1]\n"
     ]
    }
   ],
   "source": [
    "def Sorting(data):\n",
    "    for i in range(0,len(data)-1):\n",
    "        for j in range(0,len(data)-1):\n",
    "            if data[j]<data[j+1]:\n",
    "                temp = data[j]\n",
    "                data[j] = data[j+1]\n",
    "                data[j+1]=temp\n",
    "                \n",
    "panjang=int(input(\"masukkan panjang list= \"))\n",
    "myList=[0]*panjang\n",
    "for x in range (panjang):\n",
    "    myList[x]=int(input(\"masukkan angka= \"))\n",
    "\n",
    "Sorting(myList)\n",
    "print(myList)"
   ]
  },
  {
   "cell_type": "markdown",
   "metadata": {},
   "source": [
    "Selection Sort\n",
    "\n",
    "Menemukan nilai minimum di dalam array dan memindahkannya pada posisi pertama. Step ini lalu diulangi lagi untuk nilai terendah kedua, lalu ketiga, dan seterusnya hingga array terurut dengan benar."
   ]
  },
  {
   "cell_type": "code",
   "execution_count": 2,
   "metadata": {},
   "outputs": [
    {
     "name": "stdout",
     "output_type": "stream",
     "text": [
      "masukkan panjang list= 5\n",
      "masukkan angka= 3\n",
      "masukkan angka= 5\n",
      "masukkan angka= 4\n",
      "masukkan angka= 2\n",
      "masukkan angka= 1\n",
      "[3, 5, 4, 2, 1]\n",
      "[3, 5, 4, 2, 1]\n",
      "[2, 5, 4, 3, 1]\n",
      "[2, 4, 5, 3, 1]\n",
      "[2, 3, 5, 4, 1]\n",
      "[2, 3, 4, 5, 1]\n",
      "[2, 3, 4, 5, 1]\n"
     ]
    }
   ],
   "source": [
    "def sorting (num):\n",
    "    for i in range(0,len(num)-2):\n",
    "        iMin=i\n",
    "        for j in range (i+1, len(num)-1):\n",
    "            if num[j]<num[iMin]:\n",
    "                iMin = j\n",
    "                temp = num[i]\n",
    "                num[i] = num[iMin]\n",
    "                num[iMin] = temp\n",
    "            print(num)\n",
    "\n",
    "panjang=int(input(\"masukkan panjang list= \"))\n",
    "myList=[0]*panjang\n",
    "for x in range (panjang):\n",
    "    myList[x]=int(input(\"masukkan angka= \"))\n",
    "\n",
    "sorting(myList)\n",
    "print(myList)"
   ]
  },
  {
   "cell_type": "markdown",
   "metadata": {},
   "source": [
    "Insertion Sort\n",
    "\n",
    "Selalu mempertahankan sublist yang sudah terurut dalam posisi terendah pada list. Setiap item baru lalu ditambahkan kembali pada sublist sebelumnya yang mana sublist yang sudah diurutkan adalah satu item lebih besar."
   ]
  },
  {
   "cell_type": "code",
   "execution_count": 3,
   "metadata": {},
   "outputs": [
    {
     "name": "stdout",
     "output_type": "stream",
     "text": [
      "masukkan panjang list= 5\n",
      "masukkan angka= 4\n",
      "masukkan angka= 3\n",
      "masukkan angka= 2\n",
      "masukkan angka= 5\n",
      "masukkan angka= 1\n",
      "[4, 3, 2, 5, 1]\n",
      "[5, 4, 3, 2, 1]\n"
     ]
    }
   ],
   "source": [
    "def insertion(alist):\n",
    "    print(alist)\n",
    "    for index in range (1,len(alist)):\n",
    "        currentvalue = alist[index]\n",
    "        position = index\n",
    "\n",
    "        while position>0 and alist[position-1]<currentvalue:\n",
    "            alist[position] = alist[position-1]\n",
    "            position = position-1\n",
    "\n",
    "        alist[position] = currentvalue\n",
    "panjang=int(input(\"masukkan panjang list= \"))\n",
    "myList=[0]*panjang\n",
    "for x in range (panjang):\n",
    "    myList[x]=int(input(\"masukkan angka= \"))\n",
    "insertion(myList)\n",
    "print(myList)"
   ]
  },
  {
   "cell_type": "markdown",
   "metadata": {},
   "source": [
    "Quick Sort\n",
    "\n",
    "Adalah algoritma sorting yang populer karena cenderung lebih cepat dalam penerapannya dibanding algoritma sorting yang lain. Quick sort memanfaatkan strategi pembagian dan penaklukan untuk mengurutkan item data dengan cepat dengan cara membagi array besar menjadi dua array kecil."
   ]
  },
  {
   "cell_type": "code",
   "execution_count": 4,
   "metadata": {},
   "outputs": [
    {
     "name": "stdout",
     "output_type": "stream",
     "text": [
      "[1, 2, 3, 5, 6, 7, 8]\n"
     ]
    }
   ],
   "source": [
    "def QuickSortAwal(A):\n",
    "    QuickSort(A,0,len(A)-1)\n",
    "\n",
    "def QuickSort(A,start,end):\n",
    "    if start<end :\n",
    "        pIndex = Partition(A,start,end)\n",
    "        QuickSort(A,start,pIndex-1)\n",
    "        QuickSort(A,pIndex+1,end)\n",
    "\n",
    "def Partition(A,start,end):\n",
    "    pivot = A[end]\n",
    "    pIndex= start\n",
    "    for i in range (start,end):\n",
    "        if(A[i]<=pivot):\n",
    "            A[i],A[pIndex] = A[pIndex],A[i]\n",
    "            pIndex = pIndex + 1\n",
    "    A[pIndex],A[end] = A[end],A[pIndex]\n",
    "    return pIndex\n",
    "\n",
    "A= [7,2,1,6,8,5,3]\n",
    "QuickSortAwal(A)\n",
    "print(A)"
   ]
  },
  {
   "cell_type": "markdown",
   "metadata": {},
   "source": [
    "Merged Sort\n",
    "\n",
    "Merged sort adalah algoritma pembagian dan penaklukkan. Ia membagi input array menjadi 2 bagian, memanggil dirinya sendiri untuk 2 bagian dan menggabungkan dua bagian yang sudah terurut. Function gabungannya digunakan untuk menggabungkan dua bagian tadi."
   ]
  },
  {
   "cell_type": "code",
   "execution_count": 5,
   "metadata": {},
   "outputs": [
    {
     "name": "stdout",
     "output_type": "stream",
     "text": [
      "[17, 20, 26, 31, 44, 54, 55, 77, 93, 99, 100]\n"
     ]
    }
   ],
   "source": [
    "def MergedSort(A):\n",
    "    n = len(A)\n",
    "    if (n<2):\n",
    "       return\n",
    "    mid = len(A)//2\n",
    "    left = A[:mid]\n",
    "    right = A[mid:]\n",
    "    MergedSort(left)\n",
    "    MergedSort(right)\n",
    "    i=0\n",
    "    j=0\n",
    "    k=0\n",
    "    while i < len(left) and j < len(right):\n",
    "        if left[i] < right[j]:\n",
    "            A[k]=left[i]\n",
    "            i=i+1\n",
    "        else:\n",
    "            A[k]=right[j]\n",
    "            j=j+1\n",
    "        k=k+1\n",
    "\n",
    "    while i < len(left):\n",
    "        A[k]=left[i]\n",
    "        i=i+1\n",
    "        k=k+1\n",
    "\n",
    "    while j < len(right):\n",
    "        A[k]=right[j]\n",
    "        j=j+1\n",
    "        k=k+1\n",
    "\n",
    "Alist= [54,26,93,17,99,77,31,44,55,20,100]\n",
    "MergedSort(Alist)\n",
    "print(Alist)"
   ]
  },
  {
   "cell_type": "markdown",
   "metadata": {},
   "source": [
    "Shell Sort\n",
    "\n",
    "Bisa dilihat sebagai generalisasi bubble sort atau insertion sort. Metodenya diawali dengan mengurutkan bagian dari elemen yang berjauhan, lalu secara progresif mengurangi jarak antara elemen-elemen yang akan diurutkan. Mulai dengan elemen-elemen yang berjauhan, itu bisa memindahkan beberapa elemen diluar posisi ke dalam posisi lebih cepat daripada penukaran sederhana terdekat."
   ]
  },
  {
   "cell_type": "code",
   "execution_count": 6,
   "metadata": {},
   "outputs": [
    {
     "name": "stdout",
     "output_type": "stream",
     "text": [
      "[35, 33, 42, 10, 14, 19, 27, 44]\n",
      "4\n",
      "[14, 33, 42, 10, 35, 19, 27, 44]\n",
      "4\n",
      "[14, 19, 42, 10, 35, 33, 27, 44]\n",
      "4\n",
      "[14, 19, 27, 10, 35, 33, 42, 44]\n",
      "4\n",
      "[14, 19, 27, 10, 35, 33, 42, 44]\n",
      "2\n",
      "[14, 19, 27, 10, 35, 33, 42, 44]\n",
      "[14, 19, 27, 10, 35, 33, 42, 44]\n",
      "[14, 19, 27, 10, 35, 33, 42, 44]\n",
      "2\n",
      "[14, 10, 27, 19, 35, 33, 42, 44]\n",
      "[14, 10, 27, 19, 35, 33, 42, 44]\n",
      "[14, 10, 27, 19, 35, 33, 42, 44]\n",
      "1\n",
      "[10, 14, 27, 19, 35, 33, 42, 44]\n",
      "[10, 14, 27, 19, 35, 33, 42, 44]\n",
      "[10, 14, 19, 27, 35, 33, 42, 44]\n",
      "[10, 14, 19, 27, 35, 33, 42, 44]\n",
      "[10, 14, 19, 27, 33, 35, 42, 44]\n",
      "[10, 14, 19, 27, 33, 35, 42, 44]\n",
      "[10, 14, 19, 27, 33, 35, 42, 44]\n",
      "[10, 14, 19, 27, 33, 35, 42, 44]\n"
     ]
    }
   ],
   "source": [
    "def shellSort(alist):\n",
    "    sublistcount = len(alist)//2\n",
    "    while sublistcount > 0:\n",
    "\n",
    "      for startposition in range(sublistcount):\n",
    "        print(sublistcount)\n",
    "        gapInsertionSort(alist,startposition,sublistcount)\n",
    "      sublistcount = sublistcount // 2\n",
    "\n",
    "def gapInsertionSort(alist,start,gap):\n",
    "    for i in range(start+gap,len(alist),gap):\n",
    "\n",
    "        currentvalue = alist[i]\n",
    "        position = i\n",
    "\n",
    "        while position>=gap and alist[position-gap]>currentvalue:\n",
    "            alist[position]=alist[position-gap]\n",
    "            position = position-gap\n",
    "\n",
    "        alist[position]=currentvalue\n",
    "        print(alist)\n",
    "        \n",
    "\n",
    "\n",
    "alist = [35,33,42,10,14,19,27,44]\n",
    "print(alist)\n",
    "shellSort(alist)\n",
    "print(alist)"
   ]
  }
 ],
 "metadata": {
  "kernelspec": {
   "display_name": "Python 2",
   "language": "python",
   "name": "python2"
  },
  "language_info": {
   "codemirror_mode": {
    "name": "ipython",
    "version": 2
   },
   "file_extension": ".py",
   "mimetype": "text/x-python",
   "name": "python",
   "nbconvert_exporter": "python",
   "pygments_lexer": "ipython2",
   "version": "2.7.15"
  }
 },
 "nbformat": 4,
 "nbformat_minor": 2
}
